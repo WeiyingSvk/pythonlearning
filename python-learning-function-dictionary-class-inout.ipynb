{
 "cells": [
  {
   "cell_type": "code",
   "execution_count": 1,
   "id": "6516c675",
   "metadata": {
    "_cell_guid": "b1076dfc-b9ad-4769-8c92-a6c4dae69d19",
    "_uuid": "8f2839f25d086af736a60e9eeb907d3b93b6e0e5",
    "execution": {
     "iopub.execute_input": "2025-05-12T09:31:12.895099Z",
     "iopub.status.busy": "2025-05-12T09:31:12.894789Z",
     "iopub.status.idle": "2025-05-12T09:31:15.005192Z",
     "shell.execute_reply": "2025-05-12T09:31:15.003760Z"
    },
    "papermill": {
     "duration": 2.115908,
     "end_time": "2025-05-12T09:31:15.007271",
     "exception": false,
     "start_time": "2025-05-12T09:31:12.891363",
     "status": "completed"
    },
    "tags": []
   },
   "outputs": [],
   "source": [
    "# This Python 3 environment comes with many helpful analytics libraries installed\n",
    "# It is defined by the kaggle/python Docker image: https://github.com/kaggle/docker-python\n",
    "# For example, here's several helpful packages to load\n",
    "\n",
    "import numpy as np # linear algebra\n",
    "import pandas as pd # data processing, CSV file I/O (e.g. pd.read_csv)\n",
    "\n",
    "# Input data files are available in the read-only \"../input/\" directory\n",
    "# For example, running this (by clicking run or pressing Shift+Enter) will list all files under the input directory\n",
    "\n",
    "import os\n",
    "for dirname, _, filenames in os.walk('/kaggle/input'):\n",
    "    for filename in filenames:\n",
    "        print(os.path.join(dirname, filename))\n",
    "\n",
    "# You can write up to 20GB to the current directory (/kaggle/working/) that gets preserved as output when you create a version using \"Save & Run All\" \n",
    "# You can also write temporary files to /kaggle/temp/, but they won't be saved outside of the current session"
   ]
  },
  {
   "cell_type": "code",
   "execution_count": 2,
   "id": "e544b7e2",
   "metadata": {
    "execution": {
     "iopub.execute_input": "2025-05-12T09:31:15.012135Z",
     "iopub.status.busy": "2025-05-12T09:31:15.011718Z",
     "iopub.status.idle": "2025-05-12T09:31:15.018449Z",
     "shell.execute_reply": "2025-05-12T09:31:15.017399Z"
    },
    "papermill": {
     "duration": 0.010662,
     "end_time": "2025-05-12T09:31:15.019945",
     "exception": false,
     "start_time": "2025-05-12T09:31:15.009283",
     "status": "completed"
    },
    "tags": []
   },
   "outputs": [
    {
     "name": "stdout",
     "output_type": "stream",
     "text": [
      "Hello From My Function!\n",
      "Hello, John Doe, From My Function!, I wish you a great year!\n"
     ]
    }
   ],
   "source": [
    "# Define our 3 functions\n",
    "def my_function():\n",
    "    print(\"Hello From My Function!\")\n",
    "\n",
    "def my_function_with_args(username, greeting):\n",
    "    print(\"Hello, %s, From My Function!, I wish you %s\"%(username, greeting))\n",
    "\n",
    "def sum_two_numbers(a, b):\n",
    "    return a + b\n",
    "\n",
    "# print(a simple greeting)\n",
    "my_function()\n",
    "\n",
    "#prints - \"Hello, John Doe, From My Function!, I wish you a great year!\"\n",
    "my_function_with_args(\"John Doe\", \"a great year!\")\n",
    "\n",
    "# after this line x will hold the value 3!\n",
    "x = sum_two_numbers(1,2)"
   ]
  },
  {
   "cell_type": "code",
   "execution_count": 3,
   "id": "2f93c462",
   "metadata": {
    "execution": {
     "iopub.execute_input": "2025-05-12T09:31:15.025140Z",
     "iopub.status.busy": "2025-05-12T09:31:15.024790Z",
     "iopub.status.idle": "2025-05-12T09:31:15.030850Z",
     "shell.execute_reply": "2025-05-12T09:31:15.029858Z"
    },
    "papermill": {
     "duration": 0.01047,
     "end_time": "2025-05-12T09:31:15.032398",
     "exception": false,
     "start_time": "2025-05-12T09:31:15.021928",
     "status": "completed"
    },
    "tags": []
   },
   "outputs": [
    {
     "name": "stdout",
     "output_type": "stream",
     "text": [
      "More organized code is a benefit of functions!\n",
      "More readable code is a benefit of functions!\n",
      "Easier code reuse is a benefit of functions!\n",
      "Allowing programmers to share and connect code together is a benefit of functions!\n"
     ]
    }
   ],
   "source": [
    "# Modify this function to return a list of strings as defined above\n",
    "def list_benefits():\n",
    "    return \"More organized code\", \"More readable code\", \"Easier code reuse\", \"Allowing programmers to share and connect code together\"\n",
    "\n",
    "# Modify this function to concatenate to each benefit - \" is a benefit of functions!\"\n",
    "def build_sentence(benefit):\n",
    "    return \"%s is a benefit of functions!\" % benefit\n",
    "\n",
    "\n",
    "def name_the_benefits_of_functions():\n",
    "    list_of_benefits = list_benefits()\n",
    "    for benefit in list_of_benefits:\n",
    "        print(build_sentence(benefit))\n",
    "\n",
    "name_the_benefits_of_functions()"
   ]
  }
 ],
 "metadata": {
  "kaggle": {
   "accelerator": "none",
   "dataSources": [],
   "dockerImageVersionId": 31012,
   "isGpuEnabled": false,
   "isInternetEnabled": true,
   "language": "python",
   "sourceType": "notebook"
  },
  "kernelspec": {
   "display_name": "Python 3",
   "language": "python",
   "name": "python3"
  },
  "language_info": {
   "codemirror_mode": {
    "name": "ipython",
    "version": 3
   },
   "file_extension": ".py",
   "mimetype": "text/x-python",
   "name": "python",
   "nbconvert_exporter": "python",
   "pygments_lexer": "ipython3",
   "version": "3.11.11"
  },
  "papermill": {
   "default_parameters": {},
   "duration": 8.064012,
   "end_time": "2025-05-12T09:31:15.654109",
   "environment_variables": {},
   "exception": null,
   "input_path": "__notebook__.ipynb",
   "output_path": "__notebook__.ipynb",
   "parameters": {},
   "start_time": "2025-05-12T09:31:07.590097",
   "version": "2.6.0"
  }
 },
 "nbformat": 4,
 "nbformat_minor": 5
}
